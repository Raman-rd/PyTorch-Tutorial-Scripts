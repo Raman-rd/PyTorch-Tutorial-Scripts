{
 "cells": [
  {
   "cell_type": "code",
   "execution_count": 1,
   "metadata": {},
   "outputs": [],
   "source": [
    "### import libs\n",
    "import pandas as pd\n",
    "import numpy as np\n",
    "import torch\n",
    "import torch.nn as nn\n",
    "import torch.nn.functional as F\n",
    "import matplotlib.pyplot as plt\n",
    "import seaborn as sns\n",
    "%matplotlib inline"
   ]
  },
  {
   "cell_type": "code",
   "execution_count": 2,
   "metadata": {},
   "outputs": [
    {
     "data": {
      "text/html": [
       "<div>\n",
       "<style scoped>\n",
       "    .dataframe tbody tr th:only-of-type {\n",
       "        vertical-align: middle;\n",
       "    }\n",
       "\n",
       "    .dataframe tbody tr th {\n",
       "        vertical-align: top;\n",
       "    }\n",
       "\n",
       "    .dataframe thead th {\n",
       "        text-align: right;\n",
       "    }\n",
       "</style>\n",
       "<table border=\"1\" class=\"dataframe\">\n",
       "  <thead>\n",
       "    <tr style=\"text-align: right;\">\n",
       "      <th></th>\n",
       "      <th>age</th>\n",
       "      <th>anaemia</th>\n",
       "      <th>creatinine_phosphokinase</th>\n",
       "      <th>diabetes</th>\n",
       "      <th>ejection_fraction</th>\n",
       "      <th>high_blood_pressure</th>\n",
       "      <th>platelets</th>\n",
       "      <th>serum_creatinine</th>\n",
       "      <th>serum_sodium</th>\n",
       "      <th>sex</th>\n",
       "      <th>smoking</th>\n",
       "      <th>time</th>\n",
       "      <th>DEATH_EVENT</th>\n",
       "    </tr>\n",
       "  </thead>\n",
       "  <tbody>\n",
       "    <tr>\n",
       "      <th>0</th>\n",
       "      <td>75.0</td>\n",
       "      <td>0</td>\n",
       "      <td>582</td>\n",
       "      <td>0</td>\n",
       "      <td>20</td>\n",
       "      <td>1</td>\n",
       "      <td>265000.00</td>\n",
       "      <td>1.9</td>\n",
       "      <td>130</td>\n",
       "      <td>1</td>\n",
       "      <td>0</td>\n",
       "      <td>4</td>\n",
       "      <td>1</td>\n",
       "    </tr>\n",
       "    <tr>\n",
       "      <th>1</th>\n",
       "      <td>55.0</td>\n",
       "      <td>0</td>\n",
       "      <td>7861</td>\n",
       "      <td>0</td>\n",
       "      <td>38</td>\n",
       "      <td>0</td>\n",
       "      <td>263358.03</td>\n",
       "      <td>1.1</td>\n",
       "      <td>136</td>\n",
       "      <td>1</td>\n",
       "      <td>0</td>\n",
       "      <td>6</td>\n",
       "      <td>1</td>\n",
       "    </tr>\n",
       "    <tr>\n",
       "      <th>2</th>\n",
       "      <td>65.0</td>\n",
       "      <td>0</td>\n",
       "      <td>146</td>\n",
       "      <td>0</td>\n",
       "      <td>20</td>\n",
       "      <td>0</td>\n",
       "      <td>162000.00</td>\n",
       "      <td>1.3</td>\n",
       "      <td>129</td>\n",
       "      <td>1</td>\n",
       "      <td>1</td>\n",
       "      <td>7</td>\n",
       "      <td>1</td>\n",
       "    </tr>\n",
       "    <tr>\n",
       "      <th>3</th>\n",
       "      <td>50.0</td>\n",
       "      <td>1</td>\n",
       "      <td>111</td>\n",
       "      <td>0</td>\n",
       "      <td>20</td>\n",
       "      <td>0</td>\n",
       "      <td>210000.00</td>\n",
       "      <td>1.9</td>\n",
       "      <td>137</td>\n",
       "      <td>1</td>\n",
       "      <td>0</td>\n",
       "      <td>7</td>\n",
       "      <td>1</td>\n",
       "    </tr>\n",
       "    <tr>\n",
       "      <th>4</th>\n",
       "      <td>65.0</td>\n",
       "      <td>1</td>\n",
       "      <td>160</td>\n",
       "      <td>1</td>\n",
       "      <td>20</td>\n",
       "      <td>0</td>\n",
       "      <td>327000.00</td>\n",
       "      <td>2.7</td>\n",
       "      <td>116</td>\n",
       "      <td>0</td>\n",
       "      <td>0</td>\n",
       "      <td>8</td>\n",
       "      <td>1</td>\n",
       "    </tr>\n",
       "  </tbody>\n",
       "</table>\n",
       "</div>"
      ],
      "text/plain": [
       "    age  anaemia  creatinine_phosphokinase  diabetes  ejection_fraction  \\\n",
       "0  75.0        0                       582         0                 20   \n",
       "1  55.0        0                      7861         0                 38   \n",
       "2  65.0        0                       146         0                 20   \n",
       "3  50.0        1                       111         0                 20   \n",
       "4  65.0        1                       160         1                 20   \n",
       "\n",
       "   high_blood_pressure  platelets  serum_creatinine  serum_sodium  sex  \\\n",
       "0                    1  265000.00               1.9           130    1   \n",
       "1                    0  263358.03               1.1           136    1   \n",
       "2                    0  162000.00               1.3           129    1   \n",
       "3                    0  210000.00               1.9           137    1   \n",
       "4                    0  327000.00               2.7           116    0   \n",
       "\n",
       "   smoking  time  DEATH_EVENT  \n",
       "0        0     4            1  \n",
       "1        0     6            1  \n",
       "2        1     7            1  \n",
       "3        0     7            1  \n",
       "4        0     8            1  "
      ]
     },
     "execution_count": 2,
     "metadata": {},
     "output_type": "execute_result"
    }
   ],
   "source": [
    "df = pd.read_csv(\"heart_failure_clinical_records_dataset.csv\")\n",
    "df.head()"
   ]
  },
  {
   "cell_type": "code",
   "execution_count": 3,
   "metadata": {},
   "outputs": [
    {
     "data": {
      "text/plain": [
       "age                         0\n",
       "anaemia                     0\n",
       "creatinine_phosphokinase    0\n",
       "diabetes                    0\n",
       "ejection_fraction           0\n",
       "high_blood_pressure         0\n",
       "platelets                   0\n",
       "serum_creatinine            0\n",
       "serum_sodium                0\n",
       "sex                         0\n",
       "smoking                     0\n",
       "time                        0\n",
       "DEATH_EVENT                 0\n",
       "dtype: int64"
      ]
     },
     "execution_count": 3,
     "metadata": {},
     "output_type": "execute_result"
    }
   ],
   "source": [
    "df.isnull().sum() ### No missing values"
   ]
  },
  {
   "cell_type": "code",
   "execution_count": 4,
   "metadata": {},
   "outputs": [],
   "source": [
    "#####"
   ]
  },
  {
   "cell_type": "code",
   "execution_count": 5,
   "metadata": {},
   "outputs": [
    {
     "data": {
      "text/plain": [
       "<AxesSubplot:xlabel='DEATH_EVENT', ylabel='count'>"
      ]
     },
     "execution_count": 5,
     "metadata": {},
     "output_type": "execute_result"
    },
    {
     "data": {
      "image/png": "[encoded data removed]",
      "text/plain": [
       "<Figure size 432x288 with 1 Axes>"
      ]
     },
     "metadata": {
      "needs_background": "light"
     },
     "output_type": "display_data"
    }
   ],
   "source": [
    "sns.countplot(df['DEATH_EVENT']) ### Fairly balanced"
   ]
  },
  {
   "cell_type": "code",
   "execution_count": 6,
   "metadata": {},
   "outputs": [
    {
     "name": "stdout",
     "output_type": "stream",
     "text": [
      "<class 'pandas.core.frame.DataFrame'>\n",
      "RangeIndex: 299 entries, 0 to 298\n",
      "Data columns (total 13 columns):\n",
      " #   Column                    Non-Null Count  Dtype  \n",
      "---  ------                    --------------  -----  \n",
      " 0   age                       299 non-null    float64\n",
      " 1   anaemia                   299 non-null    int64  \n",
      " 2   creatinine_phosphokinase  299 non-null    int64  \n",
      " 3   diabetes                  299 non-null    int64  \n",
      " 4   ejection_fraction         299 non-null    int64  \n",
      " 5   high_blood_pressure       299 non-null    int64  \n",
      " 6   platelets                 299 non-null    float64\n",
      " 7   serum_creatinine          299 non-null    float64\n",
      " 8   serum_sodium              299 non-null    int64  \n",
      " 9   sex                       299 non-null    int64  \n",
      " 10  smoking                   299 non-null    int64  \n",
      " 11  time                      299 non-null    int64  \n",
      " 12  DEATH_EVENT               299 non-null    int64  \n",
      "dtypes: float64(3), int64(10)\n",
      "memory usage: 30.5 KB\n"
     ]
    }
   ],
   "source": [
    "df.info()"
   ]
  },
  {
   "cell_type": "code",
   "execution_count": 7,
   "metadata": {},
   "outputs": [],
   "source": [
    "cols = [col for col in df.columns]"
   ]
  },
  {
   "cell_type": "code",
   "execution_count": 8,
   "metadata": {},
   "outputs": [
    {
     "name": "stdout",
     "output_type": "stream",
     "text": [
      "age\n"
     ]
    },
    {
     "data": {
      "image/png": "[encoded data removed]",
      "text/plain": [
       "<Figure size 432x288 with 1 Axes>"
      ]
     },
     "metadata": {
      "needs_background": "light"
     },
     "output_type": "display_data"
    },
    {
     "name": "stdout",
     "output_type": "stream",
     "text": [
      "anaemia\n"
     ]
    },
    {
     "data": {
      "image/png": "[encoded data removed]",
      "text/plain": [
       "<Figure size 432x288 with 1 Axes>"
      ]
     },
     "metadata": {
      "needs_background": "light"
     },
     "output_type": "display_data"
    },
    {
     "name": "stdout",
     "output_type": "stream",
     "text": [
      "creatinine_phosphokinase\n"
     ]
    },
    {
     "data": {
      "image/png": "[encoded data removed]",
      "text/plain": [
       "<Figure size 432x288 with 1 Axes>"
      ]
     },
     "metadata": {
      "needs_background": "light"
     },
     "output_type": "display_data"
    },
    {
     "name": "stdout",
     "output_type": "stream",
     "text": [
      "diabetes\n"
     ]
    },
    {
     "data": {
      "image/png": "[encoded data removed]",
      "text/plain": [
       "<Figure size 432x288 with 1 Axes>"
      ]
     },
     "metadata": {
      "needs_background": "light"
     },
     "output_type": "display_data"
    },
    {
     "name": "stdout",
     "output_type": "stream",
     "text": [
      "ejection_fraction\n"
     ]
    },
    {
     "data": {
      "image/png": "[encoded data removed]",
      "text/plain": [
       "<Figure size 432x288 with 1 Axes>"
      ]
     },
     "metadata": {
      "needs_background": "light"
     },
     "output_type": "display_data"
    },
    {
     "name": "stdout",
     "output_type": "stream",
     "text": [
      "high_blood_pressure\n"
     ]
    },
    {
     "data": {
      "image/png": "[encoded data removed]",
      "text/plain": [
       "<Figure size 432x288 with 1 Axes>"
      ]
     },
     "metadata": {
      "needs_background": "light"
     },
     "output_type": "display_data"
    },
    {
     "name": "stdout",
     "output_type": "stream",
     "text": [
      "platelets\n"
     ]
    },
    {
     "data": {
      "image/png": "[encoded data removed]",
      "text/plain": [
       "<Figure size 432x288 with 1 Axes>"
      ]
     },
     "metadata": {
      "needs_background": "light"
     },
     "output_type": "display_data"
    },
    {
     "name": "stdout",
     "output_type": "stream",
     "text": [
      "serum_creatinine\n"
     ]
    },
    {
     "data": {
      "image/png": "[encoded data removed]",
      "text/plain": [
       "<Figure size 432x288 with 1 Axes>"
      ]
     },
     "metadata": {
      "needs_background": "light"
     },
     "output_type": "display_data"
    },
    {
     "name": "stdout",
     "output_type": "stream",
     "text": [
      "serum_sodium\n"
     ]
    },
    {
     "data": {
      "image/png": "[encoded data removed]",
      "text/plain": [
       "<Figure size 432x288 with 1 Axes>"
      ]
     },
     "metadata": {
      "needs_background": "light"
     },
     "output_type": "display_data"
    },
    {
     "name": "stdout",
     "output_type": "stream",
     "text": [
      "sex\n"
     ]
    },
    {
     "data": {
      "image/png": "[encoded data removed]",
      "text/plain": [
       "<Figure size 432x288 with 1 Axes>"
      ]
     },
     "metadata": {
      "needs_background": "light"
     },
     "output_type": "display_data"
    },
    {
     "name": "stdout",
     "output_type": "stream",
     "text": [
      "smoking\n"
     ]
    },
    {
     "data": {
      "image/png": "[encoded data removed]",
      "text/plain": [
       "<Figure size 432x288 with 1 Axes>"
      ]
     },
     "metadata": {
      "needs_background": "light"
     },
     "output_type": "display_data"
    },
    {
     "name": "stdout",
     "output_type": "stream",
     "text": [
      "time\n"
     ]
    },
    {
     "data": {
      "image/png": "[encoded data removed]",
      "text/plain": [
       "<Figure size 432x288 with 1 Axes>"
      ]
     },
     "metadata": {
      "needs_background": "light"
     },
     "output_type": "display_data"
    },
    {
     "name": "stdout",
     "output_type": "stream",
     "text": [
      "DEATH_EVENT\n"
     ]
    },
    {
     "data": {
      "image/png": "[encoded data removed]",
      "text/plain": [
       "<Figure size 432x288 with 1 Axes>"
      ]
     },
     "metadata": {
      "needs_background": "light"
     },
     "output_type": "display_data"
    }
   ],
   "source": [
    "for col in cols:\n",
    "    print(col)\n",
    "    sns.distplot(df[col])\n",
    "    plt.show()"
   ]
  },
  {
   "cell_type": "code",
   "execution_count": 9,
   "metadata": {},
   "outputs": [
    {
     "name": "stdout",
     "output_type": "stream",
     "text": [
      "age\n"
     ]
    },
    {
     "data": {
      "image/png": "[encoded data removed]",
      "text/plain": [
       "<Figure size 432x288 with 1 Axes>"
      ]
     },
     "metadata": {
      "needs_background": "light"
     },
     "output_type": "display_data"
    },
    {
     "name": "stdout",
     "output_type": "stream",
     "text": [
      "anaemia\n"
     ]
    },
    {
     "data": {
      "image/png": "[encoded data removed]",
      "text/plain": [
       "<Figure size 432x288 with 1 Axes>"
      ]
     },
     "metadata": {
      "needs_background": "light"
     },
     "output_type": "display_data"
    },
    {
     "name": "stdout",
     "output_type": "stream",
     "text": [
      "creatinine_phosphokinase\n"
     ]
    },
    {
     "data": {
      "image/png": "[encoded data removed]",
      "text/plain": [
       "<Figure size 432x288 with 1 Axes>"
      ]
     },
     "metadata": {
      "needs_background": "light"
     },
     "output_type": "display_data"
    },
    {
     "name": "stdout",
     "output_type": "stream",
     "text": [
      "diabetes\n"
     ]
    },
    {
     "data": {
      "image/png": "[encoded data removed]",
      "text/plain": [
       "<Figure size 432x288 with 1 Axes>"
      ]
     },
     "metadata": {
      "needs_background": "light"
     },
     "output_type": "display_data"
    },
    {
     "name": "stdout",
     "output_type": "stream",
     "text": [
      "ejection_fraction\n"
     ]
    },
    {
     "data": {
      "image/png": "[encoded data removed]",
      "text/plain": [
       "<Figure size 432x288 with 1 Axes>"
      ]
     },
     "metadata": {
      "needs_background": "light"
     },
     "output_type": "display_data"
    },
    {
     "name": "stdout",
     "output_type": "stream",
     "text": [
      "high_blood_pressure\n"
     ]
    },
    {
     "data": {
      "image/png": "[encoded data removed]",
      "text/plain": [
       "<Figure size 432x288 with 1 Axes>"
      ]
     },
     "metadata": {
      "needs_background": "light"
     },
     "output_type": "display_data"
    },
    {
     "name": "stdout",
     "output_type": "stream",
     "text": [
      "platelets\n"
     ]
    },
    {
     "data": {
      "image/png": "[encoded data removed]",
      "text/plain": [
       "<Figure size 432x288 with 1 Axes>"
      ]
     },
     "metadata": {
      "needs_background": "light"
     },
     "output_type": "display_data"
    },
    {
     "name": "stdout",
     "output_type": "stream",
     "text": [
      "serum_creatinine\n"
     ]
    },
    {
     "data": {
      "image/png": "[encoded data removed]",
      "text/plain": [
       "<Figure size 432x288 with 1 Axes>"
      ]
     },
     "metadata": {
      "needs_background": "light"
     },
     "output_type": "display_data"
    },
    {
     "name": "stdout",
     "output_type": "stream",
     "text": [
      "serum_sodium\n"
     ]
    },
    {
     "data": {
      "image/png": "[encoded data removed]",
      "text/plain": [
       "<Figure size 432x288 with 1 Axes>"
      ]
     },
     "metadata": {
      "needs_background": "light"
     },
     "output_type": "display_data"
    },
    {
     "name": "stdout",
     "output_type": "stream",
     "text": [
      "sex\n"
     ]
    },
    {
     "data": {
      "image/png": "[encoded data removed]",
      "text/plain": [
       "<Figure size 432x288 with 1 Axes>"
      ]
     },
     "metadata": {
      "needs_background": "light"
     },
     "output_type": "display_data"
    },
    {
     "name": "stdout",
     "output_type": "stream",
     "text": [
      "smoking\n"
     ]
    },
    {
     "data": {
      "image/png": "[encoded data removed]",
      "text/plain": [
       "<Figure size 432x288 with 1 Axes>"
      ]
     },
     "metadata": {
      "needs_background": "light"
     },
     "output_type": "display_data"
    },
    {
     "name": "stdout",
     "output_type": "stream",
     "text": [
      "time\n"
     ]
    },
    {
     "data": {
      "image/png": "[encoded data removed]",
      "text/plain": [
       "<Figure size 432x288 with 1 Axes>"
      ]
     },
     "metadata": {
      "needs_background": "light"
     },
     "output_type": "display_data"
    },
    {
     "name": "stdout",
     "output_type": "stream",
     "text": [
      "DEATH_EVENT\n"
     ]
    },
    {
     "data": {
      "image/png": "[encoded data removed]",
      "text/plain": [
       "<Figure size 432x288 with 1 Axes>"
      ]
     },
     "metadata": {
      "needs_background": "light"
     },
     "output_type": "display_data"
    }
   ],
   "source": [
    "for col in cols:\n",
    "    print(col)\n",
    "    sns.boxplot(df[col])\n",
    "    plt.show()"
   ]
  },
  {
   "cell_type": "code",
   "execution_count": 10,
   "metadata": {},
   "outputs": [],
   "source": [
    "####creatinine_phosphokinase ### ejection_fraction ###platelets ###serum_creatinine ##serum_sodium"
   ]
  },
  {
   "cell_type": "code",
   "execution_count": 11,
   "metadata": {},
   "outputs": [],
   "source": [
    "outlier_colums = [\"creatinine_phosphokinase\" ,\"ejection_fraction\",\"platelets\",\"serum_creatinine\" ,\"serum_sodium\"]"
   ]
  },
  {
   "cell_type": "code",
   "execution_count": 12,
   "metadata": {},
   "outputs": [],
   "source": [
    "def clean_outlier(col):\n",
    "    IQR = df[col].quantile(0.75) - df[col].quantile(0.50)\n",
    "    lower_bound = df[col].quantile(0.25)- 1.5*IQR\n",
    "    upper_bound = df[col].quantile(0.75) - 1.5*IQR\n",
    "    df[col] = np.where(df[col] < lower_bound ,lower_bound,df[col])\n",
    "    df[col] = np.where(df[col] > upper_bound ,upper_bound,df[col])"
   ]
  },
  {
   "cell_type": "code",
   "execution_count": 13,
   "metadata": {},
   "outputs": [],
   "source": [
    "for col in outlier_colums:\n",
    "    clean_outlier(col)"
   ]
  },
  {
   "cell_type": "code",
   "execution_count": 14,
   "metadata": {},
   "outputs": [
    {
     "name": "stdout",
     "output_type": "stream",
     "text": [
      "age\n"
     ]
    },
    {
     "data": {
      "image/png": "[encoded data removed]",
      "text/plain": [
       "<Figure size 432x288 with 1 Axes>"
      ]
     },
     "metadata": {
      "needs_background": "light"
     },
     "output_type": "display_data"
    },
    {
     "name": "stdout",
     "output_type": "stream",
     "text": [
      "anaemia\n"
     ]
    },
    {
     "data": {
      "image/png": "[encoded data removed]",
      "text/plain": [
       "<Figure size 432x288 with 1 Axes>"
      ]
     },
     "metadata": {
      "needs_background": "light"
     },
     "output_type": "display_data"
    },
    {
     "name": "stdout",
     "output_type": "stream",
     "text": [
      "creatinine_phosphokinase\n"
     ]
    },
    {
     "data": {
      "image/png": "[encoded data removed]",
      "text/plain": [
       "<Figure size 432x288 with 1 Axes>"
      ]
     },
     "metadata": {
      "needs_background": "light"
     },
     "output_type": "display_data"
    },
    {
     "name": "stdout",
     "output_type": "stream",
     "text": [
      "diabetes\n"
     ]
    },
    {
     "data": {
      "image/png": "[encoded data removed]",
      "text/plain": [
       "<Figure size 432x288 with 1 Axes>"
      ]
     },
     "metadata": {
      "needs_background": "light"
     },
     "output_type": "display_data"
    },
    {
     "name": "stdout",
     "output_type": "stream",
     "text": [
      "ejection_fraction\n"
     ]
    },
    {
     "data": {
      "image/png": "[encoded data removed]",
      "text/plain": [
       "<Figure size 432x288 with 1 Axes>"
      ]
     },
     "metadata": {
      "needs_background": "light"
     },
     "output_type": "display_data"
    },
    {
     "name": "stdout",
     "output_type": "stream",
     "text": [
      "high_blood_pressure\n"
     ]
    },
    {
     "data": {
      "image/png": "[encoded data removed]",
      "text/plain": [
       "<Figure size 432x288 with 1 Axes>"
      ]
     },
     "metadata": {
      "needs_background": "light"
     },
     "output_type": "display_data"
    },
    {
     "name": "stdout",
     "output_type": "stream",
     "text": [
      "platelets\n"
     ]
    },
    {
     "data": {
      "image/png": "[encoded data removed]",
      "text/plain": [
       "<Figure size 432x288 with 1 Axes>"
      ]
     },
     "metadata": {
      "needs_background": "light"
     },
     "output_type": "display_data"
    },
    {
     "name": "stdout",
     "output_type": "stream",
     "text": [
      "serum_creatinine\n"
     ]
    },
    {
     "data": {
      "image/png": "[encoded data removed]",
      "text/plain": [
       "<Figure size 432x288 with 1 Axes>"
      ]
     },
     "metadata": {
      "needs_background": "light"
     },
     "output_type": "display_data"
    },
    {
     "name": "stdout",
     "output_type": "stream",
     "text": [
      "serum_sodium\n"
     ]
    },
    {
     "data": {
      "image/png": "[encoded data removed]",
      "text/plain": [
       "<Figure size 432x288 with 1 Axes>"
      ]
     },
     "metadata": {
      "needs_background": "light"
     },
     "output_type": "display_data"
    },
    {
     "name": "stdout",
     "output_type": "stream",
     "text": [
      "sex\n"
     ]
    },
    {
     "data": {
      "image/png": "[encoded data removed]",
      "text/plain": [
       "<Figure size 432x288 with 1 Axes>"
      ]
     },
     "metadata": {
      "needs_background": "light"
     },
     "output_type": "display_data"
    },
    {
     "name": "stdout",
     "output_type": "stream",
     "text": [
      "smoking\n"
     ]
    },
    {
     "data": {
      "image/png": "[encoded data removed]",
      "text/plain": [
       "<Figure size 432x288 with 1 Axes>"
      ]
     },
     "metadata": {
      "needs_background": "light"
     },
     "output_type": "display_data"
    },
    {
     "name": "stdout",
     "output_type": "stream",
     "text": [
      "time\n"
     ]
    },
    {
     "data": {
      "image/png": "[encoded data removed]",
      "text/plain": [
       "<Figure size 432x288 with 1 Axes>"
      ]
     },
     "metadata": {
      "needs_background": "light"
     },
     "output_type": "display_data"
    },
    {
     "name": "stdout",
     "output_type": "stream",
     "text": [
      "DEATH_EVENT\n"
     ]
    },
    {
     "data": {
      "image/png": "[encoded data removed]",
      "text/plain": [
       "<Figure size 432x288 with 1 Axes>"
      ]
     },
     "metadata": {
      "needs_background": "light"
     },
     "output_type": "display_data"
    }
   ],
   "source": [
    "for col in cols:\n",
    "    print(col)\n",
    "    sns.boxplot(df[col])\n",
    "    plt.show()"
   ]
  },
  {
   "cell_type": "code",
   "execution_count": 15,
   "metadata": {},
   "outputs": [
    {
     "data": {
      "text/html": [
       "<div>\n",
       "<style scoped>\n",
       "    .dataframe tbody tr th:only-of-type {\n",
       "        vertical-align: middle;\n",
       "    }\n",
       "\n",
       "    .dataframe tbody tr th {\n",
       "        vertical-align: top;\n",
       "    }\n",
       "\n",
       "    .dataframe thead th {\n",
       "        text-align: right;\n",
       "    }\n",
       "</style>\n",
       "<table border=\"1\" class=\"dataframe\">\n",
       "  <thead>\n",
       "    <tr style=\"text-align: right;\">\n",
       "      <th></th>\n",
       "      <th>age</th>\n",
       "      <th>anaemia</th>\n",
       "      <th>creatinine_phosphokinase</th>\n",
       "      <th>diabetes</th>\n",
       "      <th>ejection_fraction</th>\n",
       "      <th>high_blood_pressure</th>\n",
       "      <th>platelets</th>\n",
       "      <th>serum_creatinine</th>\n",
       "      <th>serum_sodium</th>\n",
       "      <th>sex</th>\n",
       "      <th>smoking</th>\n",
       "      <th>time</th>\n",
       "      <th>DEATH_EVENT</th>\n",
       "    </tr>\n",
       "  </thead>\n",
       "  <tbody>\n",
       "    <tr>\n",
       "      <th>0</th>\n",
       "      <td>75.0</td>\n",
       "      <td>0</td>\n",
       "      <td>84.0</td>\n",
       "      <td>0</td>\n",
       "      <td>20.0</td>\n",
       "      <td>1</td>\n",
       "      <td>241250.0</td>\n",
       "      <td>0.95</td>\n",
       "      <td>130.0</td>\n",
       "      <td>1</td>\n",
       "      <td>0</td>\n",
       "      <td>4</td>\n",
       "      <td>1</td>\n",
       "    </tr>\n",
       "    <tr>\n",
       "      <th>1</th>\n",
       "      <td>55.0</td>\n",
       "      <td>0</td>\n",
       "      <td>84.0</td>\n",
       "      <td>0</td>\n",
       "      <td>34.5</td>\n",
       "      <td>0</td>\n",
       "      <td>241250.0</td>\n",
       "      <td>0.95</td>\n",
       "      <td>135.5</td>\n",
       "      <td>1</td>\n",
       "      <td>0</td>\n",
       "      <td>6</td>\n",
       "      <td>1</td>\n",
       "    </tr>\n",
       "    <tr>\n",
       "      <th>2</th>\n",
       "      <td>65.0</td>\n",
       "      <td>0</td>\n",
       "      <td>84.0</td>\n",
       "      <td>0</td>\n",
       "      <td>20.0</td>\n",
       "      <td>0</td>\n",
       "      <td>162000.0</td>\n",
       "      <td>0.95</td>\n",
       "      <td>129.5</td>\n",
       "      <td>1</td>\n",
       "      <td>1</td>\n",
       "      <td>7</td>\n",
       "      <td>1</td>\n",
       "    </tr>\n",
       "    <tr>\n",
       "      <th>3</th>\n",
       "      <td>50.0</td>\n",
       "      <td>1</td>\n",
       "      <td>84.0</td>\n",
       "      <td>0</td>\n",
       "      <td>20.0</td>\n",
       "      <td>0</td>\n",
       "      <td>210000.0</td>\n",
       "      <td>0.95</td>\n",
       "      <td>135.5</td>\n",
       "      <td>1</td>\n",
       "      <td>0</td>\n",
       "      <td>7</td>\n",
       "      <td>1</td>\n",
       "    </tr>\n",
       "    <tr>\n",
       "      <th>4</th>\n",
       "      <td>65.0</td>\n",
       "      <td>1</td>\n",
       "      <td>84.0</td>\n",
       "      <td>1</td>\n",
       "      <td>20.0</td>\n",
       "      <td>0</td>\n",
       "      <td>241250.0</td>\n",
       "      <td>0.95</td>\n",
       "      <td>129.5</td>\n",
       "      <td>0</td>\n",
       "      <td>0</td>\n",
       "      <td>8</td>\n",
       "      <td>1</td>\n",
       "    </tr>\n",
       "  </tbody>\n",
       "</table>\n",
       "</div>"
      ],
      "text/plain": [
       "    age  anaemia  creatinine_phosphokinase  diabetes  ejection_fraction  \\\n",
       "0  75.0        0                      84.0         0               20.0   \n",
       "1  55.0        0                      84.0         0               34.5   \n",
       "2  65.0        0                      84.0         0               20.0   \n",
       "3  50.0        1                      84.0         0               20.0   \n",
       "4  65.0        1                      84.0         1               20.0   \n",
       "\n",
       "   high_blood_pressure  platelets  serum_creatinine  serum_sodium  sex  \\\n",
       "0                    1   241250.0              0.95         130.0    1   \n",
       "1                    0   241250.0              0.95         135.5    1   \n",
       "2                    0   162000.0              0.95         129.5    1   \n",
       "3                    0   210000.0              0.95         135.5    1   \n",
       "4                    0   241250.0              0.95         129.5    0   \n",
       "\n",
       "   smoking  time  DEATH_EVENT  \n",
       "0        0     4            1  \n",
       "1        0     6            1  \n",
       "2        1     7            1  \n",
       "3        0     7            1  \n",
       "4        0     8            1  "
      ]
     },
     "execution_count": 15,
     "metadata": {},
     "output_type": "execute_result"
    }
   ],
   "source": [
    "df.head()"
   ]
  },
  {
   "cell_type": "code",
   "execution_count": 16,
   "metadata": {},
   "outputs": [],
   "source": [
    "y = df[\"DEATH_EVENT\"].values\n",
    "X = df.drop(\"DEATH_EVENT\",axis=1).values"
   ]
  },
  {
   "cell_type": "code",
   "execution_count": 17,
   "metadata": {},
   "outputs": [],
   "source": [
    "from sklearn.model_selection import train_test_split"
   ]
  },
  {
   "cell_type": "code",
   "execution_count": 18,
   "metadata": {},
   "outputs": [],
   "source": [
    " X_train, X_test, y_train, y_test = train_test_split( X, y, test_size=0.33, random_state=42)"
   ]
  },
  {
   "cell_type": "code",
   "execution_count": 19,
   "metadata": {},
   "outputs": [],
   "source": [
    "from sklearn.preprocessing import MinMaxScaler\n",
    "scaler = MinMaxScaler()"
   ]
  },
  {
   "cell_type": "code",
   "execution_count": 20,
   "metadata": {},
   "outputs": [],
   "source": [
    "X_train = scaler.fit_transform(X_train)\n",
    "X_test = scaler.transform(X_test)"
   ]
  },
  {
   "cell_type": "code",
   "execution_count": 21,
   "metadata": {},
   "outputs": [],
   "source": [
    "X_train = torch.FloatTensor(X_train)\n",
    "X_test = torch.FloatTensor(X_test)"
   ]
  },
  {
   "cell_type": "code",
   "execution_count": 22,
   "metadata": {},
   "outputs": [],
   "source": [
    "y_train=torch.LongTensor(y_train)\n",
    "y_test=torch.LongTensor(y_test)"
   ]
  },
  {
   "cell_type": "code",
   "execution_count": 23,
   "metadata": {},
   "outputs": [
    {
     "data": {
      "text/plain": [
       "(torch.Size([200, 12]), torch.Size([200]))"
      ]
     },
     "execution_count": 23,
     "metadata": {},
     "output_type": "execute_result"
    }
   ],
   "source": [
    "X_train.shape,y_train.shape"
   ]
  },
  {
   "cell_type": "code",
   "execution_count": 65,
   "metadata": {},
   "outputs": [],
   "source": [
    "class Model(nn.Module):\n",
    "    \n",
    "    def __init__(self, in_feat = 12, h1=10,h2=6,out=2,p=0.2):\n",
    "        super().__init__()\n",
    "        self.fc1 = nn.Linear(in_feat,h1)\n",
    "        self.drop = nn.Dropout(p)\n",
    "        self.fc2 = nn.Linear(h1,h2)\n",
    "        self.droptwo = nn.Dropout(p)\n",
    "        self.fc3 = nn.Linear(h2,out)\n",
    "        \n",
    "    def forward(self,x):\n",
    "        \n",
    "        x = F.leaky_relu(self.fc1(x))\n",
    "        x= self.drop(x)\n",
    "        x = F.leaky_relu(self.fc2(x))\n",
    "        x = self.droptwo(x)\n",
    "        x = F.sigmoid(self.fc3(x))\n",
    "        \n",
    "        return x"
   ]
  },
  {
   "cell_type": "code",
   "execution_count": 66,
   "metadata": {},
   "outputs": [],
   "source": [
    "torch.manual_seed(42)\n",
    "model = Model()"
   ]
  },
  {
   "cell_type": "code",
   "execution_count": 67,
   "metadata": {},
   "outputs": [],
   "source": [
    "criterion = nn.CrossEntropyLoss()\n",
    "optimizer = torch.optim.Adam(model.parameters(),lr=0.001)"
   ]
  },
  {
   "cell_type": "code",
   "execution_count": 68,
   "metadata": {},
   "outputs": [
    {
     "name": "stdout",
     "output_type": "stream",
     "text": [
      "Epoch 10 and loss is 0.7013561129570007\n",
      "Epoch 20 and loss is 0.6949176788330078\n",
      "Epoch 30 and loss is 0.6902898550033569\n",
      "Epoch 40 and loss is 0.6811276078224182\n",
      "Epoch 50 and loss is 0.6724624037742615\n",
      "Epoch 60 and loss is 0.6637643575668335\n",
      "Epoch 70 and loss is 0.6520734429359436\n",
      "Epoch 80 and loss is 0.6409825086593628\n",
      "Epoch 90 and loss is 0.6338164806365967\n",
      "Epoch 100 and loss is 0.6250879764556885\n",
      "Epoch 110 and loss is 0.6173587441444397\n",
      "Epoch 120 and loss is 0.6143254041671753\n",
      "Epoch 130 and loss is 0.5975707769393921\n",
      "Epoch 140 and loss is 0.5917559266090393\n",
      "Epoch 150 and loss is 0.5927947759628296\n",
      "Epoch 160 and loss is 0.5955500602722168\n",
      "Epoch 170 and loss is 0.5865736603736877\n",
      "Epoch 180 and loss is 0.5835423469543457\n",
      "Epoch 190 and loss is 0.5914871692657471\n",
      "Epoch 200 and loss is 0.5825187563896179\n",
      "Epoch 210 and loss is 0.5884273648262024\n",
      "Epoch 220 and loss is 0.5835561156272888\n",
      "Epoch 230 and loss is 0.5943874716758728\n",
      "Epoch 240 and loss is 0.5746512413024902\n",
      "Epoch 250 and loss is 0.5836319327354431\n",
      "Epoch 260 and loss is 0.5752953886985779\n",
      "Epoch 270 and loss is 0.5781317949295044\n",
      "Epoch 280 and loss is 0.583837628364563\n",
      "Epoch 290 and loss is 0.5732181072235107\n",
      "Epoch 300 and loss is 0.5700940489768982\n",
      "Epoch 310 and loss is 0.566718578338623\n",
      "Epoch 320 and loss is 0.5711372494697571\n",
      "Epoch 330 and loss is 0.572033166885376\n",
      "Epoch 340 and loss is 0.5591398477554321\n",
      "Epoch 350 and loss is 0.5723325610160828\n",
      "Epoch 360 and loss is 0.5681377649307251\n",
      "Epoch 370 and loss is 0.5576390624046326\n",
      "Epoch 380 and loss is 0.5727679133415222\n",
      "Epoch 390 and loss is 0.5447096228599548\n",
      "Epoch 400 and loss is 0.5520021319389343\n",
      "Epoch 410 and loss is 0.547524094581604\n",
      "Epoch 420 and loss is 0.5417148470878601\n",
      "Epoch 430 and loss is 0.5424796342849731\n",
      "Epoch 440 and loss is 0.5452134609222412\n",
      "Epoch 450 and loss is 0.5322681665420532\n",
      "Epoch 460 and loss is 0.5273500084877014\n",
      "Epoch 470 and loss is 0.5313805937767029\n",
      "Epoch 480 and loss is 0.5114499926567078\n",
      "Epoch 490 and loss is 0.518008291721344\n",
      "Epoch 500 and loss is 0.5087182521820068\n",
      "Epoch 510 and loss is 0.5115708708763123\n",
      "Epoch 520 and loss is 0.5197659134864807\n",
      "Epoch 530 and loss is 0.5182265639305115\n",
      "Epoch 540 and loss is 0.502944827079773\n",
      "Epoch 550 and loss is 0.4852708876132965\n",
      "Epoch 560 and loss is 0.487558513879776\n",
      "Epoch 570 and loss is 0.5020538568496704\n",
      "Epoch 580 and loss is 0.5005899667739868\n",
      "Epoch 590 and loss is 0.5065218806266785\n",
      "Epoch 600 and loss is 0.49550187587738037\n",
      "Epoch 610 and loss is 0.5079408884048462\n",
      "Epoch 620 and loss is 0.4828413426876068\n",
      "Epoch 630 and loss is 0.4887467920780182\n",
      "Epoch 640 and loss is 0.4760175943374634\n",
      "Epoch 650 and loss is 0.4703385829925537\n",
      "Epoch 660 and loss is 0.4890934228897095\n",
      "Epoch 670 and loss is 0.4806750416755676\n",
      "Epoch 680 and loss is 0.47520899772644043\n",
      "Epoch 690 and loss is 0.4808241128921509\n",
      "Epoch 700 and loss is 0.46695491671562195\n",
      "Epoch 710 and loss is 0.4527512788772583\n",
      "Epoch 720 and loss is 0.47043976187705994\n",
      "Epoch 730 and loss is 0.4702765941619873\n",
      "Epoch 740 and loss is 0.46242648363113403\n",
      "Epoch 750 and loss is 0.4537809491157532\n",
      "Epoch 760 and loss is 0.4627993702888489\n",
      "Epoch 770 and loss is 0.46501073241233826\n",
      "Epoch 780 and loss is 0.46285176277160645\n",
      "Epoch 790 and loss is 0.47860920429229736\n",
      "Epoch 800 and loss is 0.4624018967151642\n",
      "Epoch 810 and loss is 0.463594526052475\n",
      "Epoch 820 and loss is 0.4705772399902344\n",
      "Epoch 830 and loss is 0.4579608142375946\n",
      "Epoch 840 and loss is 0.44610607624053955\n",
      "Epoch 850 and loss is 0.46530842781066895\n",
      "Epoch 860 and loss is 0.45465001463890076\n",
      "Epoch 870 and loss is 0.4472557306289673\n",
      "Epoch 880 and loss is 0.4581128656864166\n",
      "Epoch 890 and loss is 0.45790520310401917\n",
      "Epoch 900 and loss is 0.44510531425476074\n",
      "Epoch 910 and loss is 0.45282676815986633\n",
      "Epoch 920 and loss is 0.4508725106716156\n",
      "Epoch 930 and loss is 0.44904589653015137\n",
      "Epoch 940 and loss is 0.4497653841972351\n",
      "Epoch 950 and loss is 0.45318543910980225\n",
      "Epoch 960 and loss is 0.4379667639732361\n",
      "Epoch 970 and loss is 0.4526604115962982\n",
      "Epoch 980 and loss is 0.4360039234161377\n",
      "Epoch 990 and loss is 0.4442920386791229\n",
      "Epoch 1000 and loss is 0.45175808668136597\n",
      "Epoch 1010 and loss is 0.4432752728462219\n",
      "Epoch 1020 and loss is 0.4386737048625946\n",
      "Epoch 1030 and loss is 0.419967919588089\n",
      "Epoch 1040 and loss is 0.4497321844100952\n",
      "Epoch 1050 and loss is 0.44157734513282776\n",
      "Epoch 1060 and loss is 0.444413423538208\n",
      "Epoch 1070 and loss is 0.42144766449928284\n",
      "Epoch 1080 and loss is 0.42414554953575134\n",
      "Epoch 1090 and loss is 0.4318495988845825\n",
      "Epoch 1100 and loss is 0.43494582176208496\n",
      "Epoch 1110 and loss is 0.42759811878204346\n",
      "Epoch 1120 and loss is 0.4414592981338501\n",
      "Epoch 1130 and loss is 0.4414883852005005\n",
      "Epoch 1140 and loss is 0.42827048897743225\n",
      "Epoch 1150 and loss is 0.4366075396537781\n",
      "Epoch 1160 and loss is 0.43997132778167725\n",
      "Epoch 1170 and loss is 0.430160254240036\n",
      "Epoch 1180 and loss is 0.4313967525959015\n",
      "Epoch 1190 and loss is 0.42389121651649475\n",
      "Epoch 1200 and loss is 0.4133944809436798\n",
      "Epoch 1210 and loss is 0.4307340979576111\n",
      "Epoch 1220 and loss is 0.43189549446105957\n",
      "Epoch 1230 and loss is 0.4309394359588623\n",
      "Epoch 1240 and loss is 0.42495498061180115\n",
      "Epoch 1250 and loss is 0.4280015826225281\n",
      "Epoch 1260 and loss is 0.42223063111305237\n",
      "Epoch 1270 and loss is 0.4326242208480835\n",
      "Epoch 1280 and loss is 0.414246529340744\n",
      "Epoch 1290 and loss is 0.42824333906173706\n",
      "Epoch 1300 and loss is 0.41675782203674316\n",
      "Epoch 1310 and loss is 0.4270496666431427\n",
      "Epoch 1320 and loss is 0.41115275025367737\n",
      "Epoch 1330 and loss is 0.4320143163204193\n",
      "Epoch 1340 and loss is 0.4301165044307709\n",
      "Epoch 1350 and loss is 0.4298382103443146\n",
      "Epoch 1360 and loss is 0.41477349400520325\n",
      "Epoch 1370 and loss is 0.4250856637954712\n",
      "Epoch 1380 and loss is 0.42271536588668823\n",
      "Epoch 1390 and loss is 0.4207708239555359\n",
      "Epoch 1400 and loss is 0.4246896505355835\n",
      "Epoch 1410 and loss is 0.42375561594963074\n",
      "Epoch 1420 and loss is 0.4228920340538025\n",
      "Epoch 1430 and loss is 0.4221993684768677\n",
      "Epoch 1440 and loss is 0.4244810938835144\n",
      "Epoch 1450 and loss is 0.42628243565559387\n",
      "Epoch 1460 and loss is 0.425240695476532\n",
      "Epoch 1470 and loss is 0.40718477964401245\n",
      "Epoch 1480 and loss is 0.4260141849517822\n",
      "Epoch 1490 and loss is 0.4350505471229553\n",
      "Epoch 1500 and loss is 0.41966795921325684\n",
      "Epoch 1510 and loss is 0.41731929779052734\n",
      "Epoch 1520 and loss is 0.41835862398147583\n",
      "Epoch 1530 and loss is 0.4159283936023712\n",
      "Epoch 1540 and loss is 0.41380348801612854\n",
      "Epoch 1550 and loss is 0.4099678099155426\n",
      "Epoch 1560 and loss is 0.42045697569847107\n",
      "Epoch 1570 and loss is 0.42681410908699036\n",
      "Epoch 1580 and loss is 0.4227776825428009\n",
      "Epoch 1590 and loss is 0.40567824244499207\n",
      "Epoch 1600 and loss is 0.4154089689254761\n",
      "Epoch 1610 and loss is 0.4186416268348694\n",
      "Epoch 1620 and loss is 0.40971219539642334\n",
      "Epoch 1630 and loss is 0.4265305697917938\n",
      "Epoch 1640 and loss is 0.41143664717674255\n",
      "Epoch 1650 and loss is 0.4042169451713562\n",
      "Epoch 1660 and loss is 0.4235527813434601\n",
      "Epoch 1670 and loss is 0.412100225687027\n",
      "Epoch 1680 and loss is 0.4270645081996918\n",
      "Epoch 1690 and loss is 0.41205281019210815\n",
      "Epoch 1700 and loss is 0.4041275680065155\n",
      "Epoch 1710 and loss is 0.40261679887771606\n",
      "Epoch 1720 and loss is 0.41090258955955505\n",
      "Epoch 1730 and loss is 0.4028850495815277\n",
      "Epoch 1740 and loss is 0.40529051423072815\n",
      "Epoch 1750 and loss is 0.41060587763786316\n",
      "Epoch 1760 and loss is 0.41694697737693787\n",
      "Epoch 1770 and loss is 0.3957120180130005\n",
      "Epoch 1780 and loss is 0.4215787649154663\n",
      "Epoch 1790 and loss is 0.4106137156486511\n",
      "Epoch 1800 and loss is 0.4082220196723938\n",
      "Epoch 1810 and loss is 0.411380410194397\n",
      "Epoch 1820 and loss is 0.42647141218185425\n",
      "Epoch 1830 and loss is 0.4174829125404358\n",
      "Epoch 1840 and loss is 0.40770313143730164\n",
      "Epoch 1850 and loss is 0.4094890356063843\n",
      "Epoch 1860 and loss is 0.4219498038291931\n",
      "Epoch 1870 and loss is 0.39661476016044617\n",
      "Epoch 1880 and loss is 0.39934855699539185\n",
      "Epoch 1890 and loss is 0.4018716812133789\n",
      "Epoch 1900 and loss is 0.41216862201690674\n",
      "Epoch 1910 and loss is 0.4083843529224396\n",
      "Epoch 1920 and loss is 0.41537049412727356\n",
      "Epoch 1930 and loss is 0.4059714376926422\n",
      "Epoch 1940 and loss is 0.42002230882644653\n",
      "Epoch 1950 and loss is 0.4152037799358368\n",
      "Epoch 1960 and loss is 0.4113529920578003\n",
      "Epoch 1970 and loss is 0.41110530495643616\n",
      "Epoch 1980 and loss is 0.4005165100097656\n",
      "Epoch 1990 and loss is 0.42030802369117737\n",
      "Epoch 2000 and loss is 0.41620394587516785\n",
      "Epoch 2010 and loss is 0.4013189971446991\n",
      "Epoch 2020 and loss is 0.41054055094718933\n",
      "Epoch 2030 and loss is 0.4134879410266876\n",
      "Epoch 2040 and loss is 0.4185909628868103\n",
      "Epoch 2050 and loss is 0.4192051589488983\n",
      "Epoch 2060 and loss is 0.40224021673202515\n",
      "Epoch 2070 and loss is 0.4026884138584137\n",
      "Epoch 2080 and loss is 0.40148842334747314\n",
      "Epoch 2090 and loss is 0.4118579626083374\n",
      "Epoch 2100 and loss is 0.39747676253318787\n",
      "Epoch 2110 and loss is 0.4097530245780945\n"
     ]
    },
    {
     "name": "stdout",
     "output_type": "stream",
     "text": [
      "Epoch 2120 and loss is 0.407807320356369\n",
      "Epoch 2130 and loss is 0.4107814431190491\n",
      "Epoch 2140 and loss is 0.40743014216423035\n",
      "Epoch 2150 and loss is 0.40240246057510376\n",
      "Epoch 2160 and loss is 0.40344229340553284\n",
      "Epoch 2170 and loss is 0.40725478529930115\n",
      "Epoch 2180 and loss is 0.39834272861480713\n",
      "Epoch 2190 and loss is 0.38908493518829346\n",
      "Epoch 2200 and loss is 0.4195837080478668\n",
      "Epoch 2210 and loss is 0.4176079034805298\n",
      "Epoch 2220 and loss is 0.42318519949913025\n",
      "Epoch 2230 and loss is 0.4075208604335785\n",
      "Epoch 2240 and loss is 0.4083865284919739\n",
      "Epoch 2250 and loss is 0.40739181637763977\n",
      "Epoch 2260 and loss is 0.39404192566871643\n",
      "Epoch 2270 and loss is 0.40854212641716003\n",
      "Epoch 2280 and loss is 0.40181946754455566\n",
      "Epoch 2290 and loss is 0.4078931510448456\n",
      "Epoch 2300 and loss is 0.39451682567596436\n",
      "Epoch 2310 and loss is 0.4073318839073181\n",
      "Epoch 2320 and loss is 0.3984362483024597\n",
      "Epoch 2330 and loss is 0.4083191156387329\n",
      "Epoch 2340 and loss is 0.3912777006626129\n",
      "Epoch 2350 and loss is 0.409149169921875\n",
      "Epoch 2360 and loss is 0.4179859161376953\n",
      "Epoch 2370 and loss is 0.39563456177711487\n",
      "Epoch 2380 and loss is 0.406524658203125\n",
      "Epoch 2390 and loss is 0.4129704535007477\n",
      "Epoch 2400 and loss is 0.413013219833374\n",
      "Epoch 2410 and loss is 0.4029066860675812\n",
      "Epoch 2420 and loss is 0.4018189311027527\n",
      "Epoch 2430 and loss is 0.3942326605319977\n",
      "Epoch 2440 and loss is 0.4001925587654114\n",
      "Epoch 2450 and loss is 0.3997208774089813\n",
      "Epoch 2460 and loss is 0.3895243704319\n",
      "Epoch 2470 and loss is 0.3983211815357208\n",
      "Epoch 2480 and loss is 0.3940154016017914\n",
      "Epoch 2490 and loss is 0.40904727578163147\n",
      "Epoch 2500 and loss is 0.40171825885772705\n",
      "Epoch 2510 and loss is 0.4048231840133667\n",
      "Epoch 2520 and loss is 0.39498353004455566\n",
      "Epoch 2530 and loss is 0.39315593242645264\n",
      "Epoch 2540 and loss is 0.3977265954017639\n",
      "Epoch 2550 and loss is 0.4023362696170807\n",
      "Epoch 2560 and loss is 0.4002104103565216\n",
      "Epoch 2570 and loss is 0.39808419346809387\n",
      "Epoch 2580 and loss is 0.39286884665489197\n",
      "Epoch 2590 and loss is 0.4052962362766266\n",
      "Epoch 2600 and loss is 0.3938372731208801\n",
      "Epoch 2610 and loss is 0.41946086287498474\n",
      "Epoch 2620 and loss is 0.3906032145023346\n",
      "Epoch 2630 and loss is 0.41297245025634766\n",
      "Epoch 2640 and loss is 0.3930669128894806\n",
      "Epoch 2650 and loss is 0.39495009183883667\n",
      "Epoch 2660 and loss is 0.41034218668937683\n",
      "Epoch 2670 and loss is 0.3976687490940094\n",
      "Epoch 2680 and loss is 0.4028310775756836\n",
      "Epoch 2690 and loss is 0.40631863474845886\n",
      "Epoch 2700 and loss is 0.4006388783454895\n",
      "Epoch 2710 and loss is 0.40174031257629395\n",
      "Epoch 2720 and loss is 0.4066419303417206\n",
      "Epoch 2730 and loss is 0.39922139048576355\n",
      "Epoch 2740 and loss is 0.3970732092857361\n",
      "Epoch 2750 and loss is 0.4036131203174591\n",
      "Epoch 2760 and loss is 0.39126235246658325\n",
      "Epoch 2770 and loss is 0.394407719373703\n",
      "Epoch 2780 and loss is 0.4032377302646637\n",
      "Epoch 2790 and loss is 0.39675620198249817\n",
      "Epoch 2800 and loss is 0.41144001483917236\n",
      "Epoch 2810 and loss is 0.3887619376182556\n",
      "Epoch 2820 and loss is 0.40467342734336853\n",
      "Epoch 2830 and loss is 0.39557087421417236\n",
      "Epoch 2840 and loss is 0.4000944197177887\n",
      "Epoch 2850 and loss is 0.40180909633636475\n",
      "Epoch 2860 and loss is 0.3896072804927826\n",
      "Epoch 2870 and loss is 0.4019058644771576\n",
      "Epoch 2880 and loss is 0.40009579062461853\n",
      "Epoch 2890 and loss is 0.3955068588256836\n",
      "Epoch 2900 and loss is 0.3789897859096527\n",
      "Epoch 2910 and loss is 0.39929503202438354\n",
      "Epoch 2920 and loss is 0.3925202190876007\n",
      "Epoch 2930 and loss is 0.39703354239463806\n",
      "Epoch 2940 and loss is 0.4030917286872864\n",
      "Epoch 2950 and loss is 0.3904922902584076\n",
      "Epoch 2960 and loss is 0.40110552310943604\n",
      "Epoch 2970 and loss is 0.39567047357559204\n",
      "Epoch 2980 and loss is 0.40434956550598145\n",
      "Epoch 2990 and loss is 0.39638230204582214\n",
      "Epoch 3000 and loss is 0.401885986328125\n",
      "Epoch 3010 and loss is 0.39729204773902893\n",
      "Epoch 3020 and loss is 0.3965822458267212\n",
      "Epoch 3030 and loss is 0.40392592549324036\n",
      "Epoch 3040 and loss is 0.3964143395423889\n",
      "Epoch 3050 and loss is 0.3804996609687805\n",
      "Epoch 3060 and loss is 0.3964921236038208\n",
      "Epoch 3070 and loss is 0.3873763680458069\n",
      "Epoch 3080 and loss is 0.40152329206466675\n",
      "Epoch 3090 and loss is 0.3935895264148712\n",
      "Epoch 3100 and loss is 0.39729946851730347\n",
      "Epoch 3110 and loss is 0.39914295077323914\n",
      "Epoch 3120 and loss is 0.39418134093284607\n",
      "Epoch 3130 and loss is 0.397751122713089\n",
      "Epoch 3140 and loss is 0.3951368033885956\n",
      "Epoch 3150 and loss is 0.39327406883239746\n",
      "Epoch 3160 and loss is 0.3863682448863983\n",
      "Epoch 3170 and loss is 0.38530611991882324\n",
      "Epoch 3180 and loss is 0.38265714049339294\n",
      "Epoch 3190 and loss is 0.4096037745475769\n",
      "Epoch 3200 and loss is 0.3865860104560852\n",
      "Epoch 3210 and loss is 0.3909011483192444\n",
      "Epoch 3220 and loss is 0.3883475065231323\n",
      "Epoch 3230 and loss is 0.39072349667549133\n",
      "Epoch 3240 and loss is 0.40309178829193115\n",
      "Epoch 3250 and loss is 0.40936166048049927\n",
      "Epoch 3260 and loss is 0.3940922021865845\n",
      "Epoch 3270 and loss is 0.38083815574645996\n",
      "Epoch 3280 and loss is 0.3915465474128723\n",
      "Epoch 3290 and loss is 0.38276225328445435\n",
      "Epoch 3300 and loss is 0.39481136202812195\n",
      "Epoch 3310 and loss is 0.3927336633205414\n",
      "Epoch 3320 and loss is 0.40265849232673645\n",
      "Epoch 3330 and loss is 0.3900170624256134\n",
      "Epoch 3340 and loss is 0.3910505771636963\n",
      "Epoch 3350 and loss is 0.400735467672348\n",
      "Epoch 3360 and loss is 0.3915805518627167\n",
      "Epoch 3370 and loss is 0.39599013328552246\n",
      "Epoch 3380 and loss is 0.40024542808532715\n",
      "Epoch 3390 and loss is 0.39021700620651245\n",
      "Epoch 3400 and loss is 0.40046048164367676\n",
      "Epoch 3410 and loss is 0.39424702525138855\n",
      "Epoch 3420 and loss is 0.3887706995010376\n",
      "Epoch 3430 and loss is 0.3879207968711853\n",
      "Epoch 3440 and loss is 0.3881864547729492\n",
      "Epoch 3450 and loss is 0.3845241963863373\n",
      "Epoch 3460 and loss is 0.3893865942955017\n",
      "Epoch 3470 and loss is 0.392638623714447\n",
      "Epoch 3480 and loss is 0.3868540823459625\n",
      "Epoch 3490 and loss is 0.38472339510917664\n",
      "Epoch 3500 and loss is 0.39899685978889465\n",
      "Epoch 3510 and loss is 0.39136284589767456\n",
      "Epoch 3520 and loss is 0.39740508794784546\n",
      "Epoch 3530 and loss is 0.407450407743454\n",
      "Epoch 3540 and loss is 0.3972862958908081\n",
      "Epoch 3550 and loss is 0.39078566431999207\n",
      "Epoch 3560 and loss is 0.38417375087738037\n",
      "Epoch 3570 and loss is 0.4056222438812256\n",
      "Epoch 3580 and loss is 0.3891865909099579\n",
      "Epoch 3590 and loss is 0.4013044834136963\n",
      "Epoch 3600 and loss is 0.39869624376296997\n",
      "Epoch 3610 and loss is 0.3860318660736084\n",
      "Epoch 3620 and loss is 0.3881174921989441\n",
      "Epoch 3630 and loss is 0.387167364358902\n",
      "Epoch 3640 and loss is 0.38821497559547424\n",
      "Epoch 3650 and loss is 0.39043357968330383\n",
      "Epoch 3660 and loss is 0.38564547896385193\n",
      "Epoch 3670 and loss is 0.38905203342437744\n",
      "Epoch 3680 and loss is 0.3932662606239319\n",
      "Epoch 3690 and loss is 0.38652756810188293\n",
      "Epoch 3700 and loss is 0.37929409742355347\n",
      "Epoch 3710 and loss is 0.37864795327186584\n",
      "Epoch 3720 and loss is 0.3923351764678955\n",
      "Epoch 3730 and loss is 0.38763150572776794\n",
      "Epoch 3740 and loss is 0.38056471943855286\n",
      "Epoch 3750 and loss is 0.3914499282836914\n",
      "Epoch 3760 and loss is 0.3838227391242981\n",
      "Epoch 3770 and loss is 0.3924940228462219\n",
      "Epoch 3780 and loss is 0.39320358633995056\n",
      "Epoch 3790 and loss is 0.38348689675331116\n",
      "Epoch 3800 and loss is 0.3955669701099396\n",
      "Epoch 3810 and loss is 0.38365456461906433\n",
      "Epoch 3820 and loss is 0.38493457436561584\n",
      "Epoch 3830 and loss is 0.3822372555732727\n",
      "Epoch 3840 and loss is 0.384834885597229\n",
      "Epoch 3850 and loss is 0.3819456398487091\n",
      "Epoch 3860 and loss is 0.3934117257595062\n",
      "Epoch 3870 and loss is 0.39734163880348206\n",
      "Epoch 3880 and loss is 0.3853242099285126\n",
      "Epoch 3890 and loss is 0.38914015889167786\n",
      "Epoch 3900 and loss is 0.38179492950439453\n",
      "Epoch 3910 and loss is 0.3910684883594513\n",
      "Epoch 3920 and loss is 0.3770972788333893\n",
      "Epoch 3930 and loss is 0.38813015818595886\n",
      "Epoch 3940 and loss is 0.37902453541755676\n",
      "Epoch 3950 and loss is 0.3831765353679657\n",
      "Epoch 3960 and loss is 0.39644449949264526\n",
      "Epoch 3970 and loss is 0.386601060628891\n",
      "Epoch 3980 and loss is 0.3828012943267822\n",
      "Epoch 3990 and loss is 0.3842800259590149\n",
      "Epoch 4000 and loss is 0.38234999775886536\n",
      "Epoch 4010 and loss is 0.3882060647010803\n",
      "Epoch 4020 and loss is 0.3735308051109314\n",
      "Epoch 4030 and loss is 0.38137707114219666\n",
      "Epoch 4040 and loss is 0.3850764036178589\n",
      "Epoch 4050 and loss is 0.3796707093715668\n",
      "Epoch 4060 and loss is 0.39392635226249695\n",
      "Epoch 4070 and loss is 0.38536617159843445\n",
      "Epoch 4080 and loss is 0.3847739100456238\n",
      "Epoch 4090 and loss is 0.38466957211494446\n",
      "Epoch 4100 and loss is 0.3775523006916046\n",
      "Epoch 4110 and loss is 0.3842499554157257\n",
      "Epoch 4120 and loss is 0.39421704411506653\n",
      "Epoch 4130 and loss is 0.37709158658981323\n",
      "Epoch 4140 and loss is 0.38045090436935425\n",
      "Epoch 4150 and loss is 0.3855019509792328\n",
      "Epoch 4160 and loss is 0.3816674053668976\n"
     ]
    },
    {
     "name": "stdout",
     "output_type": "stream",
     "text": [
      "Epoch 4170 and loss is 0.3956611752510071\n",
      "Epoch 4180 and loss is 0.3856221139431\n",
      "Epoch 4190 and loss is 0.39173462986946106\n",
      "Epoch 4200 and loss is 0.38956329226493835\n"
     ]
    }
   ],
   "source": [
    "epochs = 4200\n",
    "losses = []\n",
    "\n",
    "for i in range(epochs):\n",
    "    \n",
    "    i = i+1\n",
    "    \n",
    "    y_pred=model.forward(X_train)\n",
    "    loss = criterion(y_pred,y_train)\n",
    "    losses.append(loss)\n",
    "    \n",
    "    if i%10==0:\n",
    "        print(f\"Epoch {i} and loss is {loss}\")\n",
    "    \n",
    "    optimizer.zero_grad()\n",
    "    loss.backward()\n",
    "    optimizer.step()"
   ]
  },
  {
   "cell_type": "code",
   "execution_count": 69,
   "metadata": {},
   "outputs": [
    {
     "data": {
      "text/plain": [
       "[<matplotlib.lines.Line2D at 0x19f26e75a88>]"
      ]
     },
     "execution_count": 69,
     "metadata": {},
     "output_type": "execute_result"
    },
    {
     "data": {
      "image/png": "[encoded data removed]",
      "text/plain": [
       "<Figure size 432x288 with 1 Axes>"
      ]
     },
     "metadata": {
      "needs_background": "light"
     },
     "output_type": "display_data"
    }
   ],
   "source": [
    "plt.plot(range(epochs),losses)"
   ]
  },
  {
   "cell_type": "code",
   "execution_count": 70,
   "metadata": {},
   "outputs": [],
   "source": [
    "with torch.no_grad():\n",
    "    y_val =model.forward(X_test)\n",
    "    loss = criterion(y_val,y_test)"
   ]
  },
  {
   "cell_type": "code",
   "execution_count": 71,
   "metadata": {},
   "outputs": [
    {
     "data": {
      "text/plain": [
       "tensor(0.5273)"
      ]
     },
     "execution_count": 71,
     "metadata": {},
     "output_type": "execute_result"
    }
   ],
   "source": [
    "loss"
   ]
  },
  {
   "cell_type": "code",
   "execution_count": 72,
   "metadata": {},
   "outputs": [
    {
     "data": {
      "text/plain": [
       "torch.float32"
      ]
     },
     "execution_count": 72,
     "metadata": {},
     "output_type": "execute_result"
    }
   ],
   "source": [
    "X_train.dtype\n"
   ]
  },
  {
   "cell_type": "code",
   "execution_count": 77,
   "metadata": {},
   "outputs": [
    {
     "name": "stdout",
     "output_type": "stream",
     "text": [
      " 1. tensor([1.0000e+00, 1.2653e-13])        0\n",
      " 2. tensor([1.0000e+00, 1.1326e-25])        0\n",
      " 3. tensor([9.9998e-01, 3.0325e-05])        1\n",
      " 4. tensor([0.0051, 0.9948])                1\n",
      " 5. tensor([1.0000e+00, 4.8390e-07])        0\n",
      " 6. tensor([1.0000e+00, 1.1137e-20])        0\n",
      " 7. tensor([0.3657, 0.6857])                1\n",
      " 8. tensor([0.1292, 0.8855])                0\n",
      " 9. tensor([5.9574e-07, 1.0000e+00])        1\n",
      "10. tensor([9.9999e-01, 7.4257e-06])        0\n",
      "11. tensor([1.0000e+00, 3.6019e-11])        0\n",
      "12. tensor([9.9991e-01, 4.8403e-05])        1\n",
      "13. tensor([9.9999e-01, 2.0449e-06])        1\n",
      "14. tensor([1.0000e+00, 2.0658e-17])        0\n",
      "15. tensor([1.0000e+00, 2.4147e-11])        0\n",
      "16. tensor([9.9998e-01, 9.4398e-06])        1\n",
      "17. tensor([9.9971e-01, 1.4441e-04])        0\n",
      "18. tensor([0.9963, 0.0027])                0\n",
      "19. tensor([1.0000e+00, 1.7725e-07])        1\n",
      "20. tensor([0.1090, 0.8999])                1\n",
      "21. tensor([0.9946, 0.0064])                0\n",
      "22. tensor([1.0000e+00, 1.4204e-15])        0\n",
      "23. tensor([1.0000e+00, 9.9635e-09])        0\n",
      "24. tensor([3.7539e-07, 1.0000e+00])        1\n",
      "25. tensor([4.3129e-08, 1.0000e+00])        1\n",
      "26. tensor([1.0000e+00, 4.5342e-09])        0\n",
      "27. tensor([1.0000e+00, 7.1889e-15])        0\n",
      "28. tensor([1.0000e+00, 5.5997e-06])        0\n",
      "29. tensor([1.0000e+00, 5.9113e-07])        1\n",
      "30. tensor([9.9998e-01, 1.1124e-05])        0\n",
      "31. tensor([9.1750e-11, 1.0000e+00])        1\n",
      "32. tensor([1.0000e+00, 8.2910e-21])        0\n",
      "33. tensor([0.9909, 0.0076])                0\n",
      "34. tensor([2.0281e-14, 1.0000e+00])        1\n",
      "35. tensor([0.5828, 0.3291])                1\n",
      "36. tensor([0.9595, 0.0284])                1\n",
      "37. tensor([0.9982, 0.0011])                1\n",
      "38. tensor([9.9999e-01, 7.5984e-06])        1\n",
      "39. tensor([9.9992e-01, 1.6831e-05])        0\n",
      "40. tensor([1.0000e+00, 5.2690e-10])        0\n",
      "41. tensor([9.9646e-01, 9.8149e-04])        1\n",
      "42. tensor([0.4135, 0.6384])                1\n",
      "43. tensor([1.0000e+00, 2.2265e-07])        0\n",
      "44. tensor([0.9909, 0.0048])                0\n",
      "45. tensor([1.0000e+00, 1.4430e-08])        0\n",
      "46. tensor([9.9999e-01, 4.7300e-06])        0\n",
      "47. tensor([4.4774e-05, 9.9994e-01])        0\n",
      "48. tensor([1.0000e+00, 1.6222e-16])        0\n",
      "49. tensor([1.0000e+00, 1.7588e-13])        0\n",
      "50. tensor([1.0000e+00, 2.1911e-08])        0\n",
      "51. tensor([9.9994e-01, 7.0487e-05])        1\n",
      "52. tensor([1.0000e+00, 1.1582e-11])        1\n",
      "53. tensor([0.8887, 0.1178])                1\n",
      "54. tensor([1.0000e+00, 1.0128e-17])        0\n",
      "55. tensor([1.0000e+00, 2.8245e-10])        0\n",
      "56. tensor([0.0064, 0.9938])                0\n",
      "57. tensor([1.0000e+00, 3.4922e-13])        0\n",
      "58. tensor([3.2202e-12, 1.0000e+00])        1\n",
      "59. tensor([1.0000e+00, 6.7521e-07])        0\n",
      "60. tensor([2.2314e-13, 1.0000e+00])        1\n",
      "61. tensor([1.2477e-09, 1.0000e+00])        1\n",
      "62. tensor([9.9997e-01, 6.0253e-06])        1\n",
      "63. tensor([9.9999e-01, 6.9579e-07])        1\n",
      "64. tensor([1.0000e+00, 2.5072e-13])        0\n",
      "65. tensor([3.8028e-10, 1.0000e+00])        1\n",
      "66. tensor([9.9998e-01, 1.0785e-05])        1\n",
      "67. tensor([1.0000e+00, 2.5421e-09])        0\n",
      "68. tensor([0.9833, 0.0167])                0\n",
      "69. tensor([0.1277, 0.8719])                0\n",
      "70. tensor([1.0000e+00, 5.4475e-18])        0\n",
      "71. tensor([4.2180e-04, 9.9845e-01])        1\n",
      "72. tensor([0.0081, 0.9919])                0\n",
      "73. tensor([1.0000e+00, 2.4410e-17])        0\n",
      "74. tensor([1.0000e+00, 4.7773e-17])        0\n",
      "75. tensor([0.8904, 0.0990])                0\n",
      "76. tensor([0.9940, 0.0044])                0\n",
      "77. tensor([9.9995e-01, 2.9194e-05])        0\n",
      "78. tensor([4.9549e-06, 9.9999e-01])        1\n",
      "79. tensor([1.0000e+00, 1.4309e-22])        0\n",
      "80. tensor([1.0000e+00, 9.1781e-13])        0\n",
      "81. tensor([1.0000e+00, 1.7926e-06])        1\n",
      "82. tensor([2.6926e-11, 1.0000e+00])        1\n",
      "83. tensor([1.0000e+00, 1.5972e-12])        0\n",
      "84. tensor([9.9997e-01, 1.4119e-05])        0\n",
      "85. tensor([1.0000e+00, 4.3247e-11])        0\n",
      "86. tensor([1.0000e+00, 8.9148e-09])        0\n",
      "87. tensor([0.0019, 0.9992])                1\n",
      "88. tensor([0.0027, 0.9931])                1\n",
      "89. tensor([4.7980e-05, 9.9973e-01])        1\n",
      "90. tensor([9.9995e-01, 2.5984e-05])        0\n",
      "91. tensor([1.0000e+00, 3.1231e-07])        0\n",
      "92. tensor([6.6229e-06, 9.9999e-01])        1\n",
      "93. tensor([0.4596, 0.5935])                0\n",
      "94. tensor([2.6940e-07, 1.0000e+00])        1\n",
      "95. tensor([0.0063, 0.9934])                1\n",
      "96. tensor([8.6570e-04, 9.9895e-01])        1\n",
      "97. tensor([1.0000e+00, 6.3296e-18])        0\n",
      "98. tensor([1.0000e+00, 2.2370e-07])        0\n",
      "99. tensor([1.0663e-04, 9.9984e-01])        1\n",
      "\n",
      "75 out of 99 = 75.76% correct\n"
     ]
    }
   ],
   "source": [
    "correct = 0\n",
    "with torch.no_grad():\n",
    "    for i,data in enumerate(X_test):\n",
    "        y_val = model.forward(data)\n",
    "        print(f'{i+1:2}. {str(y_val):38}  {y_test[i]}')\n",
    "        if y_val.argmax().item() == y_test[i]:\n",
    "            correct += 1\n",
    "print(f'\\n{correct} out of {len(y_test)} = {100*correct/len(y_test):.2f}% correct')"
   ]
  },
  {
   "cell_type": "code",
   "execution_count": 76,
   "metadata": {},
   "outputs": [
    {
     "data": {
      "text/plain": [
       "tensor(194)"
      ]
     },
     "execution_count": 76,
     "metadata": {},
     "output_type": "execute_result"
    }
   ],
   "source": [
    "y_pred"
   ]
  },
  {
   "cell_type": "code",
   "execution_count": null,
   "metadata": {},
   "outputs": [],
   "source": []
  }
 ],
 "metadata": {
  "kernelspec": {
   "display_name": "Python 3",
   "language": "python",
   "name": "python3"
  },
  "language_info": {
   "codemirror_mode": {
    "name": "ipython",
    "version": 3
   },
   "file_extension": ".py",
   "mimetype": "text/x-python",
   "name": "python",
   "nbconvert_exporter": "python",
   "pygments_lexer": "ipython3",
   "version": "3.7.6"
  }
 },
 "nbformat": 4,
 "nbformat_minor": 4
}
